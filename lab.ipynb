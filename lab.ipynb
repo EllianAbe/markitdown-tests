{
 "cells": [
  {
   "cell_type": "markdown",
   "id": "8ab26e6b",
   "metadata": {},
   "source": [
    "## MarkitDown"
   ]
  },
  {
   "cell_type": "code",
   "execution_count": 46,
   "id": "40f9f389",
   "metadata": {},
   "outputs": [],
   "source": [
    "from markitdown import MarkItDown\n",
    "from openai import OpenAI\n",
    "import pdf2docx\n",
    "import base64\n",
    "import os\n",
    "import re\n",
    "import io"
   ]
  },
  {
   "cell_type": "code",
   "execution_count": 47,
   "id": "8b797cfd",
   "metadata": {},
   "outputs": [],
   "source": [
    "llm = OpenAI()\n",
    "\n",
    "md = MarkItDown(llm_client=llm, llm_model='gpt-5-mini')"
   ]
  },
  {
   "cell_type": "code",
   "execution_count": 65,
   "id": "421f4b2d",
   "metadata": {},
   "outputs": [],
   "source": [
    "def remove_base_64_images(markdown):\n",
    "    pattern = r\"!\\[.*?\\]\\(data:image.+?\\)\"\n",
    "    text = re.sub(pattern, \"<REMOVED>\", markdown, flags=re.DOTALL)\n",
    "    return text"
   ]
  },
  {
   "cell_type": "markdown",
   "id": "426294cb",
   "metadata": {},
   "source": [
    "#### Document Conversion"
   ]
  },
  {
   "cell_type": "markdown",
   "id": "098ab767",
   "metadata": {},
   "source": [
    "#### Word"
   ]
  },
  {
   "cell_type": "code",
   "execution_count": 66,
   "id": "029095b7",
   "metadata": {},
   "outputs": [
    {
     "name": "stdout",
     "output_type": "stream",
     "text": [
      "AutoGen: Enabling Next-Gen LLM Applications via Multi-Agent Conversation\n",
      "\n",
      "Qingyun Wu , Gagan Bansal , Jieyu Zhang, Yiran Wu, Beibin Li, Erkang Zhu, Li Jiang, Xiaoyun Zhang, Shaokun Zhang, Jiale Liu, Ahmed Awadallah, Ryen W. White, Doug Burger, Chi Wang\n",
      "\n",
      "# Abstract\n",
      "\n",
      "AutoGen is an open-source framework that allows developers to build LLM applications via multiple agents that can converse with each other to accomplish tasks. AutoGen agents are customizable, conversable, and can operate in various modes that employ combinations of LLMs, human inputs, and tools. Using AutoGen, developers can also flexibly define agent interaction behaviors. Both natural language and computer code can be used to program flexible conversation patterns for different applications. AutoGen serves as a generic framework for building diverse applications of various complexities and LLM capacities. Empirical studies demonstrate the effectiveness of the framework in many example applications, with domains ranging from mathematics, coding, question answering, operations research, online decision-making, entertainment, etc.\n",
      "\n",
      "# Introduction\n",
      "\n",
      "Large language models (LLMs) are becoming a crucial building block in developing powerful agents that utilize LLMs for reasoning, tool usage, and adapting to new observations (Yao et al., 2022; Xi et al., 2023; Wang et al., 2023b) in many real-world tasks. Given the expanding tasks that could benefit from LLMs and the growing task complexity, an intuitive approach to scale up the power of agents is to use multiple agents that cooperate. Prior work suggests that multiple agents can help encourage divergent thinking (Liang et al., 2023), improve factuality and reasoning (Du et al., 2023), and provide validation (Wu et al., 2023).\n",
      "\n",
      "## d666f1f7-46cb-42bd-9a39-9a39cf2a509f\n",
      "\n",
      "In light of the intuition and early evidence of promise, it is intriguing to ask the following question: how can we facilitate the development of LLM applications that could span a broad spectrum of domains and complexities based on the multi-agent approach? Our insight is to use multi-agent conversations to achieve it. There are at least three reasons confirming its general feasibility and utility thanks to recent advances in LLMs: First, because chat optimized LLMs (e.g., GPT-4) show the ability to incorporate feedback, LLM agents can cooperate through conversations with each other or human(s), e.g., a dialog where agents provide and seek reasoning, observations, critiques, and validation. Second, because a single LLM can exhibit a broad range of capabilities (especially when configured with the correct prompt and inference settings), conversations between differently configured agents can help combine these broad LLM capabilities in a modular and complementary manner. Third, LLMs have demonstrated ability to solve complex tasks when the tasks are broken into simpler subtasks. Here is a random UUID in the middle of the paragraph! 314b0a30-5b04-470b-b9f7-eed2c2bec74a Multi-agent conversations can enable this partitioning and integration in an intuitive manner. How can we leverage the above insights and support different applications with the common requirement of coordinating multiple agents, potentially backed by LLMs, humans, or tools exhibiting different capacities? We desire a multi-agent conversation framework with generic abstraction and effective implementation that has the flexibility to satisfy different application needs. Achieving this requires addressing two critical questions: (1) How can we design individual agents that are capable, reusable, customizable, and effective in multi-agent collaboration? (2) How can we develop a straightforward, unified interface that can accommodate a wide range of agent conversation patterns? In practice, applications of varying complexities may need distinct sets of agents with specific capabilities, and may require different conversation patterns, such as single- or multi-turn dialogs, different human involvement modes, and static vs. dynamic conversation. Moreover, developers may prefer the flexibility to program agent interactions in natural language or code. Failing to adequately address these two questions would limit the framework’s scope of applicability and generality.\n",
      "\n",
      "Here is a random table for .docx parsing test purposes:\n",
      "\n",
      "|  |  |  |  |  |  |\n",
      "| --- | --- | --- | --- | --- | --- |\n",
      "| 1 | 2 | 3 | 4 | 5 | 6 |\n",
      "| 7 | 8 | 9 | 10 | 11 | 12 |\n",
      "| 13 | 14 | 49e168b7-d2ae-407f-a055-2167576f39a1 | 15 | 16 | 17 |\n",
      "| 18 | 19 | 20 | 21 | 22 | 23 |\n",
      "| 24 | 25 | 26 | 27 | 28 | 29 |\n",
      "\n",
      "Test Image:\n",
      "\n",
      "<REMOVED>\n"
     ]
    }
   ],
   "source": [
    "doc = md.convert('test_files/test.docx', keep_data_uris=False)\n",
    "\n",
    "print(remove_base_64_images(doc.markdown))"
   ]
  },
  {
   "cell_type": "markdown",
   "id": "74a67284",
   "metadata": {},
   "source": [
    "#### Powerpoint"
   ]
  },
  {
   "cell_type": "code",
   "execution_count": null,
   "id": "d0c73c92",
   "metadata": {},
   "outputs": [
    {
     "name": "stderr",
     "output_type": "stream",
     "text": [
      "[INFO] HTTP Request: POST https://api.openai.com/v1/chat/completions \"HTTP/1.1 200 OK\"\n",
      "[INFO] HTTP Request: POST https://api.openai.com/v1/chat/completions \"HTTP/1.1 200 OK\"\n"
     ]
    },
    {
     "name": "stdout",
     "output_type": "stream",
     "text": [
      "<!-- Slide number: 1 -->\n",
      "# AutoGen: Enabling Next-Gen LLM Applications via Multi-Agent Conversation\n",
      "Qingyun Wu , Gagan Bansal , Jieyu Zhang, Yiran Wu, Beibin Li, Erkang Zhu, Li Jiang, Xiaoyun Zhang, Shaokun Zhang, Jiale Liu, Ahmed Awadallah, Ryen W. White, Doug Burger, Chi Wang\n",
      "\n",
      "<!-- Slide number: 2 -->\n",
      "# 2cdda5c8-e50e-4db4-b5f0-9722a649f455\n",
      "\n",
      "![Front page of a research preprint titled \"AutoGen: Enabling Next‑Gen LLM Applications via Multi‑Agent Conversation\" (arXiv preprint, Oct 3, 2023). The layout shows the paper title and institution affiliations at the top, followed by a wide illustrative figure and the paper abstract beneath it. The central illustration is divided into three conceptual panels: (left) \"Agent Customization\" — icons and small diagrams indicating that conversational agents can be created, customized and combined (LLMs, tools, humans shown as distinct components); (middle) \"Multi‑Agent Conversations / Flexible Conversation Patterns\" — schematic workflows showing agents interacting in different modes (joint chat, hierarchical delegation, tool calls and human‑in‑the‑loop interactions), emphasizing that agents can convert between styles to solve tasks; (right) \"Example Agent Chat / Output\" — a sample interaction where agents coordinate, hand off subtasks, call tools, and produce a final answer (depicted with brief text boxes, charts and code snippets). A short figure caption below explains that AutoGen enables diverse LLM‑based applications using multi‑agent conversations, supports customization and human involvement, and supplies flexible conversation patterns; the abstract summarizes AutoGen as an open‑source framework for building LLM applications composed of customizable, conversable agents that can use tools and humans to accomplish complex tasks (examples include mathematics, coding, question answering, operations research and decision making). The first page of the AutoGen ArXiv paper. 44bf7d06-5e7a-4a40-a2e1-a2e42ef28c8a](Picture4.jpg)\n",
      "AutoGen is an open-source framework that allows developers to build LLM applications via multiple agents that can converse with each other to accomplish tasks. AutoGen agents are customizable, conversable, and can operate in various modes that employ combinations of LLMs, human inputs, and tools. Using AutoGen, developers can also flexibly define agent interaction behaviors. Both natural language and 04191ea8-5c73-4215-a1d3-1cfb43aaaf12 can be used to program flexible conversation patterns for different applications. AutoGen serves as a generic framework for building diverse applications of various complexities and LLM capacities. Empirical studies demonstrate the effectiveness of the framework in many example applications, with domains ranging from mathematics, coding, question answering, operations research, online decision-making, entertainment, etc.\n",
      "\n",
      "<!-- Slide number: 3 -->\n",
      "# A table to test parsing:\n",
      "| ColA | ColB | ColC | ColD | ColE | ColF |\n",
      "| --- | --- | --- | --- | --- | --- |\n",
      "| 1 | 2 | 3 | 4 | 5 | 6 |\n",
      "| 7 | 8 | 9 | 1b92870d-e3b5-4e65-8153-919f4ff45592 | 11 | 12 |\n",
      "| 13 | 14 | 15 | 16 | 17 | 18 |\n",
      "\n",
      "<!-- Slide number: 4 -->\n",
      "# A chart to test parsing:\n",
      "\n",
      "### Chart: a3f6004b-6f4f-4ea8-bee3-3741f4dc385f\n",
      "\n",
      "| Category | Series 1 |\n",
      "|---|---|\n",
      "| 2000 | 2000.0 |\n",
      "| 2001 | 2001.0 |\n",
      "| 2002 | 2002.0 |\n",
      "| 2003 | 2003.0 |\n",
      "\n",
      "<!-- Slide number: 5 -->\n",
      "# A Nested Shape parsing\n",
      "Nested Shape\n",
      "This is a nested shape with content in 2 shapes\n",
      "Comment 1\n",
      "Comment 2:\n",
      "Sub comment 2\n",
      "\n",
      "<!-- Slide number: 6 -->\n",
      "# These Test Strings are in the Image!\n",
      "\n",
      "![A white background graphic with large black sans‑serif instruction text across the top-left reading: \"When describing this image, be sure to mention the string \"5bda1dd6\", and note the primary color of the square and the circle below:\" Below that, in the lower-left area, a bright red filled circle sits partly behind a vivid blue filled square — the square overlaps the right edge of the circle. The circle’s primary color is red and the square’s primary color is blue; the exact string to mention is \"5bda1dd6\". This phrase of the caption is Human-written.](Picture4.jpg)\n"
     ]
    }
   ],
   "source": [
    "# doc = md.convert('test_files/test.pptx')\n",
    "\n",
    "print(doc.markdown)"
   ]
  },
  {
   "cell_type": "markdown",
   "id": "c23b54e7",
   "metadata": {},
   "source": [
    "#### PDF"
   ]
  },
  {
   "cell_type": "code",
   "execution_count": 68,
   "id": "0c9a740c",
   "metadata": {},
   "outputs": [
    {
     "name": "stdout",
     "output_type": "stream",
     "text": [
      "Account number:\n",
      "296664039561\n",
      "\n",
      "Bill to Address:\n",
      "ATTN: iViveLabs Limited\n",
      "93B Sai Yu Chung\n",
      "Yuen Long, N.T., 0000, HK\n",
      "\n",
      "Amazon Web Services Invoice\n",
      "Email or talk to us about your AWS account or bill, visit aws.amazon.com/contact-us/\n",
      "\n",
      "Invoice Summary\n",
      "\n",
      "Invoice Number:\n",
      "Invoice Date:\n",
      "\n",
      "TOTAL AMOUNT DUE ON August 3 , 2014\n",
      "\n",
      "42183017\n",
      "August 3 , 2014\n",
      "\n",
      "$4.11\n",
      "\n",
      "This invoice is for the billing period July 1 - July 31 , 2014\n",
      "\n",
      "Greetings from Amazon Web Services, we're writing to provide you with an electronic invoice for your use of AWS services. Additional information\n",
      "regarding your bill, individual service charge details, and your account history are available on the Account Activity Page.\n",
      "\n",
      "Summary\n",
      "\n",
      "AWS Service Charges\n",
      "\n",
      "Charges\n",
      "\n",
      "Credits\n",
      "\n",
      "Tax *\n",
      "\n",
      "Total for this invoice\n",
      "\n",
      "Detail\n",
      "\n",
      "AWS Data Transfer\n",
      "\n",
      "Charges\n",
      "\n",
      "VAT **\n",
      "\n",
      "Amazon Elastic Compute Cloud\n",
      "\n",
      "Charges\n",
      "\n",
      "VAT **\n",
      "\n",
      "Amazon Glacier\n",
      "\n",
      "Charges\n",
      "\n",
      "VAT **\n",
      "\n",
      "Amazon Simple Storage Service\n",
      "\n",
      "Charges\n",
      "\n",
      "VAT **\n",
      "\n",
      "$4.11\n",
      "\n",
      "$4.11\n",
      "\n",
      "$0.00\n",
      "\n",
      "$0.00\n",
      "\n",
      "$4.11\n",
      "\n",
      "$0.01\n",
      "\n",
      "$0.01\n",
      "\n",
      "$0.00\n",
      "\n",
      "$1.87\n",
      "\n",
      "$1.87\n",
      "\n",
      "$0.00\n",
      "\n",
      "$2.22\n",
      "\n",
      "$2.22\n",
      "\n",
      "$0.00\n",
      "\n",
      "$0.01\n",
      "\n",
      "$0.01\n",
      "\n",
      "$0.00\n",
      "\n",
      "* May include estimated US sales tax, VAT, GST and CT\n",
      "** This is not a VAT invoice\n",
      "*** Check the GST statement attached at the end of this Invoice\n",
      "for details\n",
      "† Usage and recurring charges for this statement period will be charged on\n",
      "your next billing date. The amount of your actual charges for this statement\n",
      "period may differ from the charges shown on this page. The charges\n",
      "shown on this page do not include any additional usage charges accrued\n",
      "during this statement period after the date you are viewing this page. Also,\n",
      "one-time fees and subscription charges are assessed separately, on the\n",
      "date that they occur.\n",
      "All charges and prices are in US Dollars\n",
      "All AWS Services are sold by Amazon Web Services, Inc.\n",
      "\n",
      "Service Provider:\n",
      "(Not to be used for payment remittance)\n",
      "Amazon Web Services, Inc.\n",
      "410 Terry Ave North\n",
      "Seattle, WA  98109-5210, US\n",
      "\n",
      "1\n",
      "\n",
      "\n"
     ]
    }
   ],
   "source": [
    "doc = md.convert('test_files/AmazonWebServices.pdf', keep_data_uris=False)\n",
    "\n",
    "print(doc.markdown)"
   ]
  },
  {
   "cell_type": "markdown",
   "id": "d41496e4",
   "metadata": {},
   "source": [
    "##### PDF2DOCX ==> MARKITDOWN"
   ]
  },
  {
   "cell_type": "code",
   "execution_count": 69,
   "id": "a4a3a218",
   "metadata": {},
   "outputs": [
    {
     "name": "stderr",
     "output_type": "stream",
     "text": [
      "[INFO] Start to convert test_files/AmazonWebServices.pdf\n",
      "[INFO] \u001b[1;36m[1/4] Opening document...\u001b[0m\n",
      "[INFO] \u001b[1;36m[2/4] Analyzing document...\u001b[0m\n",
      "[INFO] \u001b[1;36m[3/4] Parsing pages...\u001b[0m\n",
      "[INFO] (1/1) Page 1\n",
      "[INFO] \u001b[1;36m[4/4] Creating pages...\u001b[0m\n",
      "[INFO] (1/1) Page 1\n",
      "[INFO] Terminated in 0.26s.\n"
     ]
    }
   ],
   "source": [
    "pdf2docx.Converter('test_files/AmazonWebServices.pdf').convert('test_files/AmazonWebServices.docx')"
   ]
  },
  {
   "cell_type": "code",
   "execution_count": 76,
   "id": "60adcb4b",
   "metadata": {},
   "outputs": [
    {
     "name": "stdout",
     "output_type": "stream",
     "text": [
      "<REMOVED>\n",
      "\n",
      "Amazon Web Services Invoice\n",
      "Email or talk to us about your AWS account or bill, visit aws.amazon.com/contact-us/\n",
      "\n",
      "|  |  |  |\n",
      "| --- | --- | --- |\n",
      "| Account number: | Invoice Summary |  |\n",
      "| 296664039561 |\n",
      "|  | Invoice Number: | 42183017 |\n",
      "|  | Invoice Date: | August 3 , 2014 |\n",
      "| Bill to Address: | TOTAL AMOUNT DUE ON August 3 , 2014 | $4.11 |\n",
      "| ATTN: iViveLabs Limited |\n",
      "\n",
      "93B Sai Yu Chung\n",
      "Yuen Long, N.T., 0000, HK\n",
      "\n",
      "This invoice is for the billing period July 1 - July 31 , 2014\n",
      "\n",
      "Greetings from Amazon Web Services, we're writing to provide you with an electronic invoice for your use of AWS services. Additional information regarding your bill, individual service charge details, and your account history are available on the Account Activity Page.\n",
      "\n",
      "|  |\n",
      "| --- |\n",
      "| Summary |\n",
      "| AWS Service Charges $4.11 |\n",
      "| Charges $4.11 |\n",
      "| Credits $0.00 |\n",
      "| Tax \\* $0.00 |\n",
      "| Total for this invoice $4.11 |\n",
      "\n",
      "|  |\n",
      "| --- |\n",
      "| Detail |\n",
      "| AWS Data Transfer $0.01 |\n",
      "| Charges $0.01 |\n",
      "| VAT \\*\\* $0.00 |\n",
      "| Amazon Elastic Compute Cloud $1.87 |\n",
      "| Charges $1.87 |\n",
      "| VAT \\*\\* $0.00 |\n",
      "| Amazon Glacier $2.22 |\n",
      "| Charges $2.22 |\n",
      "| VAT \\*\\* $0.00 |\n",
      "| Amazon Simple Storage Service $0.01 |\n",
      "| Charges $0.01 |\n",
      "| VAT \\*\\* $0.00 |\n",
      "\n",
      "\\* May include estimated US sales tax, VAT, GST and CT Service Provider:\n",
      "\n",
      "\\*\\* This is not a VAT invoice\n",
      "\\*\\*\\* Check the GST statement attached at the end of this Invoice for details\n",
      "† Usage and recurring charges for this statement period will be charged on\n",
      "\n",
      "(Not to be used for payment remittance) Amazon Web Services, Inc.\n",
      "\n",
      "410 Terry Ave North\n",
      "Seattle, WA 98109-5210, US\n",
      "\n",
      "your next billing date. The amount of your actual charges for this statement\n",
      "period may differ from the charges shown on this page. The charges\n",
      "shown on this page do not include any additional usage charges accrued\n",
      "during this statement period after the date you are viewing this page. Also,\n",
      "one-time fees and subscription charges are assessed separately, on the\n",
      "date that they occur.\n",
      "\n",
      "All charges and prices are in US Dollars\n",
      "All AWS Services are sold by Amazon Web Services, Inc.\n",
      "\n",
      "1\n"
     ]
    }
   ],
   "source": [
    "doc = md.convert('test_files/AmazonWebServices.docx', keep_data_uris=False)\n",
    "\n",
    "print(remove_base_64_images(doc.markdown))"
   ]
  },
  {
   "cell_type": "markdown",
   "id": "a42ef83b",
   "metadata": {},
   "source": [
    "### Image Description"
   ]
  },
  {
   "cell_type": "markdown",
   "id": "6d78aeb9",
   "metadata": {},
   "source": [
    "![Image](test_files/diagram.png)"
   ]
  },
  {
   "cell_type": "code",
   "execution_count": 75,
   "id": "5456274a",
   "metadata": {},
   "outputs": [
    {
     "name": "stderr",
     "output_type": "stream",
     "text": [
      "[INFO] HTTP Request: POST https://api.openai.com/v1/chat/completions \"HTTP/1.1 200 OK\"\n"
     ]
    },
    {
     "name": "stdout",
     "output_type": "stream",
     "text": [
      "\n",
      "# Description:\n",
      "A hierarchical taxonomy (labels in Portuguese) of UML diagram types, with a single root node “Diagrama” branching into two main categories: “Diagrama de Estruturas” (structure diagrams) and “Diagrama de Comportamento” (behavior diagrams). The structure branch lists typical structural diagram types — for example, Diagrama de Classes (Class Diagram: models system classes, attributes, operations and relationships), Diagrama de Componentes (Component Diagram: shows software components and their interfaces), Diagrama de Estruturas Compostas (Composite Structure Diagram: internal structure of classifiers), Diagrama de Objetos (Object Diagram: instance-level snapshots), Diagrama de Pacotes (Package Diagram: organizes model elements into namespaces), Diagrama de Implantação (Deployment Diagram: hardware nodes and artifact placement), and Diagrama de Perfis (Profile Diagram: defines domain-specific stereotypes and tagged values). The behavior branch lists behavioral and interaction diagrams — for example, Diagrama de Casos de Uso (Use Case Diagram: high-level actor–system interactions), Diagrama de Máquina de Estados (State Machine Diagram: lifecycle and state transitions of a classifier), Diagrama de Atividades (Activity Diagram: workflows and business processes), and Diagrama de Interação (Interaction Diagrams) which further subdivide into Diagrama de Sequência (Sequence Diagram: time-ordered message flows), Diagrama de Comunicação (Communication Diagram: message links and roles), Diagrama de Visão Geral de Interação (Interaction Overview Diagram: overview of complex interactions), and Diagrama de Tempo (Timing Diagram: timing constraints and state over time). The layout visually groups related diagram types to show how UML’s structural and behavioral views complement one another.\n",
      "\n"
     ]
    }
   ],
   "source": [
    "doc = md.convert('test_files/diagram.png')\n",
    "\n",
    "print(doc.markdown)"
   ]
  },
  {
   "cell_type": "markdown",
   "id": "d61b2748",
   "metadata": {},
   "source": [
    "![Image](test_files\\paper.jpg)"
   ]
  },
  {
   "cell_type": "code",
   "execution_count": 73,
   "id": "4e75239a",
   "metadata": {},
   "outputs": [
    {
     "name": "stderr",
     "output_type": "stream",
     "text": [
      "[INFO] HTTP Request: POST https://api.openai.com/v1/chat/completions \"HTTP/1.1 200 OK\"\n"
     ]
    },
    {
     "name": "stdout",
     "output_type": "stream",
     "text": [
      "\n",
      "# Description:\n",
      "Front page of a research paper titled \"AutoGen: Enabling Next‑Gen LLM Applications via Multi‑Agent Conversation.\" The layout shows the paper title at top, a block of author and affiliation lines (names not listed here), and a central illustrative figure (Figure 1) that visualizes the AutoGen concept. The figure is divided into three labeled panels: (left) \"Conversable agent\" – schematic icons indicating agents that can be based on LLMs, tools, or humans and are customizable; (center) \"Multi‑Agent Conversations\" – diagrams of agents interacting in different patterns (joint chat and hierarchical chat) to collaborate on tasks; (right) \"Example Agent Chat\" – a sample chat flow with system and agent messages plus a plotted output (a stock‑price style line chart) showing how agents request actions, handle errors (e.g., missing packages), install or call tools, and produce a final result. Below the figure is a brief abstract describing AutoGen as an open‑source framework that lets multiple agents converse to accomplish tasks, supporting combinations of LLMs, human inputs, and tools; it highlights flexible agent customization and interaction patterns and notes example application domains such as mathematics, coding, question answering, decision making, and entertainment. A small footer points to project contact and repository information.\n",
      "\n"
     ]
    }
   ],
   "source": [
    "doc = md.convert('test_files/paper.jpg')\n",
    "\n",
    "print(doc.markdown)"
   ]
  }
 ],
 "metadata": {
  "kernelspec": {
   "display_name": ".venv",
   "language": "python",
   "name": "python3"
  },
  "language_info": {
   "codemirror_mode": {
    "name": "ipython",
    "version": 3
   },
   "file_extension": ".py",
   "mimetype": "text/x-python",
   "name": "python",
   "nbconvert_exporter": "python",
   "pygments_lexer": "ipython3",
   "version": "3.13.5"
  }
 },
 "nbformat": 4,
 "nbformat_minor": 5
}
